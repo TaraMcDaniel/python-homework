{
 "cells": [
  {
   "cell_type": "code",
   "execution_count": 1,
   "id": "bdeefffc-cde1-4afb-b4b2-07d9618e87e8",
   "metadata": {},
   "outputs": [],
   "source": [
    "#Import .csv file\n",
    "from pathlib import Path\n",
    "import csv"
   ]
  },
  {
   "cell_type": "code",
   "execution_count": 2,
   "id": "73ac155f-a604-45e2-9787-36062b723f78",
   "metadata": {},
   "outputs": [],
   "source": [
    "# Set variables\n",
    "df = []\n",
    "inc_month =[\"\"]\n",
    "dec_month =[\"\"]\n",
    "previous_val = 0\n",
    "Total_Months = 1\n",
    "Total = 0\n",
    "Average_Change = 0\n",
    "Greatest_Increase = 0\n",
    "Greatest_Decrease = 0"
   ]
  },
  {
   "cell_type": "code",
   "execution_count": 3,
   "id": "d29a8faa-f34d-4e25-b149-518de5e217c0",
   "metadata": {},
   "outputs": [],
   "source": [
    "# Find csv file - save in same folder as ipynb so you don't have to cd into file\n",
    "csvpath = Path(\"budget_data.csv\")"
   ]
  },
  {
   "cell_type": "code",
   "execution_count": 4,
   "id": "299f0166-fb3e-4dc6-98f5-406b6ec1ebd7",
   "metadata": {},
   "outputs": [],
   "source": [
    "# Open .csv file\n",
    "with open(csvpath, \"r\") as csvfile:\n",
    "    csvreader = csv.reader(csvfile)    \n",
    "    next(csvreader)\n",
    "# adding a second \"next\" to give the initial \"previous value\" starting point\n",
    "    df = next(csvreader)\n",
    "    previous_val = int(df[1])\n",
    "    Total = previous_val\n",
    "# for loop to do nessesary calculations\n",
    "    for row in csvreader:\n",
    "              \n",
    "        Total_Months = Total_Months +1\n",
    "        Total = Total + int(row[1])\n",
    "        Average_Change = Average_Change + (int(row[1])-previous_val)\n",
    "# if statments to get values from \"for loop\"        \n",
    "        if int(row[1]) - previous_val > Greatest_Increase:\n",
    "            Greatest_Increase = int(row[1]) - previous_val\n",
    "            inc_month = (row[0])\n",
    "        elif int(row[1]) - previous_val < Greatest_Decrease:\n",
    "            Greatest_Decrease = int(row[1]) - previous_val\n",
    "            dec_month = (row[0])\n",
    "        previous_val = int(row[1])   \n",
    "    Average_Change = Average_Change/(Total_Months-1)"
   ]
  },
  {
   "cell_type": "code",
   "execution_count": 5,
   "id": "1db455c9-80cc-491a-b38e-798506df5157",
   "metadata": {},
   "outputs": [
    {
     "name": "stdout",
     "output_type": "stream",
     "text": [
      "Financial Analysis\n",
      "------------------------\n",
      "Total Months: 86\n",
      "Total: $ 38382578\n",
      "Average Change: $ -2315.12\n",
      "Greatest Increase in Profits: Feb-2012 : ( $ 1926159 )\n",
      "Greatest Decrease in Profits: Sep-2013 : ( $ -2196167 )\n"
     ]
    }
   ],
   "source": [
    "# Print results \n",
    "print(\"Financial Analysis\")\n",
    "print(\"------------------------\")\n",
    "print(\"Total Months:\", Total_Months)\n",
    "print(\"Total:\",\"$\",Total)\n",
    "print(\"Average Change:\", \"$\",round(Average_Change,2))\n",
    "print(\"Greatest Increase in Profits:\", inc_month,\":\", '(','$',Greatest_Increase,')')\n",
    "print(\"Greatest Decrease in Profits:\", dec_month,\":\",'(','$',Greatest_Decrease,')')"
   ]
  },
  {
   "cell_type": "code",
   "execution_count": 6,
   "id": "d8c32c96-9d2d-4fc8-bed0-b37c97da4d45",
   "metadata": {},
   "outputs": [],
   "source": [
    "#Define output path/file\n",
    "output_path = \"results_data_.txt\""
   ]
  },
  {
   "cell_type": "code",
   "execution_count": 7,
   "id": "2b6df1e5-3fb1-4591-8626-e8f71356960a",
   "metadata": {},
   "outputs": [],
   "source": [
    "#Writing .txt file\n",
    "with open(output_path, 'w') as f:\n",
    "    f.write(f'Financial Analysis \\n')\n",
    "    f.write('-------------------------- \\n')\n",
    "    f.write(f'Total Months: {Total_Months} \\n')\n",
    "    f.write(f'Total: ${Total} \\n')\n",
    "    f.write(f'Average Change ${round(Average_Change,2)} \\n')\n",
    "    f.write(f'Greatest Increase in Profits: {inc_month}: (${Greatest_Increase}) \\n')\n",
    "    f.write(f'Greatest Decrease in Profits: {dec_month}: (${Greatest_Decrease}) \\n')\n",
    "    "
   ]
  }
 ],
 "metadata": {
  "kernelspec": {
   "display_name": "Python 3",
   "language": "python",
   "name": "python3"
  },
  "language_info": {
   "codemirror_mode": {
    "name": "ipython",
    "version": 3
   },
   "file_extension": ".py",
   "mimetype": "text/x-python",
   "name": "python",
   "nbconvert_exporter": "python",
   "pygments_lexer": "ipython3",
   "version": "3.8.8"
  }
 },
 "nbformat": 4,
 "nbformat_minor": 5
}
